{
 "cells": [
  {
   "cell_type": "code",
   "execution_count": 1,
   "id": "84ea7cb9",
   "metadata": {},
   "outputs": [],
   "source": [
    "import numpy as np\n",
    "import tensorflow as tf\n",
    "from tensorflow.keras.datasets import imdb\n",
    "from tensorflow.keras.preprocessing import sequence\n",
    "from tensorflow.keras.models import load_model"
   ]
  },
  {
   "cell_type": "code",
   "execution_count": 2,
   "id": "b4236486",
   "metadata": {},
   "outputs": [],
   "source": [
    "## Load the IMDB dataset word index\n",
    "word_index = imdb.get_word_index()\n",
    "reverse_word_index = {value: key for key, value in word_index.items()}\n"
   ]
  },
  {
   "cell_type": "code",
   "execution_count": 3,
   "id": "b6285d3b",
   "metadata": {},
   "outputs": [
    {
     "name": "stderr",
     "output_type": "stream",
     "text": [
      "WARNING:absl:Compiled the loaded model, but the compiled metrics have yet to be built. `model.compile_metrics` will be empty until you train or evaluate the model.\n"
     ]
    },
    {
     "data": {
      "text/html": [
       "<pre style=\"white-space:pre;overflow-x:auto;line-height:normal;font-family:Menlo,'DejaVu Sans Mono',consolas,'Courier New',monospace\"><span style=\"font-weight: bold\">Model: \"sequential_3\"</span>\n",
       "</pre>\n"
      ],
      "text/plain": [
       "\u001b[1mModel: \"sequential_3\"\u001b[0m\n"
      ]
     },
     "metadata": {},
     "output_type": "display_data"
    },
    {
     "data": {
      "text/html": [
       "<pre style=\"white-space:pre;overflow-x:auto;line-height:normal;font-family:Menlo,'DejaVu Sans Mono',consolas,'Courier New',monospace\">┏━━━━━━━━━━━━━━━━━━━━━━━━━━━━━━━━━┳━━━━━━━━━━━━━━━━━━━━━━━━┳━━━━━━━━━━━━━━━┓\n",
       "┃<span style=\"font-weight: bold\"> Layer (type)                    </span>┃<span style=\"font-weight: bold\"> Output Shape           </span>┃<span style=\"font-weight: bold\">       Param # </span>┃\n",
       "┡━━━━━━━━━━━━━━━━━━━━━━━━━━━━━━━━━╇━━━━━━━━━━━━━━━━━━━━━━━━╇━━━━━━━━━━━━━━━┩\n",
       "│ embedding_3 (<span style=\"color: #0087ff; text-decoration-color: #0087ff\">Embedding</span>)         │ (<span style=\"color: #00af00; text-decoration-color: #00af00\">32</span>, <span style=\"color: #00af00; text-decoration-color: #00af00\">500</span>, <span style=\"color: #00af00; text-decoration-color: #00af00\">128</span>)         │     <span style=\"color: #00af00; text-decoration-color: #00af00\">1,280,000</span> │\n",
       "├─────────────────────────────────┼────────────────────────┼───────────────┤\n",
       "│ simple_rnn_2 (<span style=\"color: #0087ff; text-decoration-color: #0087ff\">SimpleRNN</span>)        │ (<span style=\"color: #00af00; text-decoration-color: #00af00\">32</span>, <span style=\"color: #00af00; text-decoration-color: #00af00\">128</span>)              │        <span style=\"color: #00af00; text-decoration-color: #00af00\">32,896</span> │\n",
       "├─────────────────────────────────┼────────────────────────┼───────────────┤\n",
       "│ dense_2 (<span style=\"color: #0087ff; text-decoration-color: #0087ff\">Dense</span>)                 │ (<span style=\"color: #00af00; text-decoration-color: #00af00\">32</span>, <span style=\"color: #00af00; text-decoration-color: #00af00\">1</span>)                │           <span style=\"color: #00af00; text-decoration-color: #00af00\">129</span> │\n",
       "└─────────────────────────────────┴────────────────────────┴───────────────┘\n",
       "</pre>\n"
      ],
      "text/plain": [
       "┏━━━━━━━━━━━━━━━━━━━━━━━━━━━━━━━━━┳━━━━━━━━━━━━━━━━━━━━━━━━┳━━━━━━━━━━━━━━━┓\n",
       "┃\u001b[1m \u001b[0m\u001b[1mLayer (type)                   \u001b[0m\u001b[1m \u001b[0m┃\u001b[1m \u001b[0m\u001b[1mOutput Shape          \u001b[0m\u001b[1m \u001b[0m┃\u001b[1m \u001b[0m\u001b[1m      Param #\u001b[0m\u001b[1m \u001b[0m┃\n",
       "┡━━━━━━━━━━━━━━━━━━━━━━━━━━━━━━━━━╇━━━━━━━━━━━━━━━━━━━━━━━━╇━━━━━━━━━━━━━━━┩\n",
       "│ embedding_3 (\u001b[38;5;33mEmbedding\u001b[0m)         │ (\u001b[38;5;34m32\u001b[0m, \u001b[38;5;34m500\u001b[0m, \u001b[38;5;34m128\u001b[0m)         │     \u001b[38;5;34m1,280,000\u001b[0m │\n",
       "├─────────────────────────────────┼────────────────────────┼───────────────┤\n",
       "│ simple_rnn_2 (\u001b[38;5;33mSimpleRNN\u001b[0m)        │ (\u001b[38;5;34m32\u001b[0m, \u001b[38;5;34m128\u001b[0m)              │        \u001b[38;5;34m32,896\u001b[0m │\n",
       "├─────────────────────────────────┼────────────────────────┼───────────────┤\n",
       "│ dense_2 (\u001b[38;5;33mDense\u001b[0m)                 │ (\u001b[38;5;34m32\u001b[0m, \u001b[38;5;34m1\u001b[0m)                │           \u001b[38;5;34m129\u001b[0m │\n",
       "└─────────────────────────────────┴────────────────────────┴───────────────┘\n"
      ]
     },
     "metadata": {},
     "output_type": "display_data"
    },
    {
     "data": {
      "text/html": [
       "<pre style=\"white-space:pre;overflow-x:auto;line-height:normal;font-family:Menlo,'DejaVu Sans Mono',consolas,'Courier New',monospace\"><span style=\"font-weight: bold\"> Total params: </span><span style=\"color: #00af00; text-decoration-color: #00af00\">1,313,027</span> (5.01 MB)\n",
       "</pre>\n"
      ],
      "text/plain": [
       "\u001b[1m Total params: \u001b[0m\u001b[38;5;34m1,313,027\u001b[0m (5.01 MB)\n"
      ]
     },
     "metadata": {},
     "output_type": "display_data"
    },
    {
     "data": {
      "text/html": [
       "<pre style=\"white-space:pre;overflow-x:auto;line-height:normal;font-family:Menlo,'DejaVu Sans Mono',consolas,'Courier New',monospace\"><span style=\"font-weight: bold\"> Trainable params: </span><span style=\"color: #00af00; text-decoration-color: #00af00\">1,313,025</span> (5.01 MB)\n",
       "</pre>\n"
      ],
      "text/plain": [
       "\u001b[1m Trainable params: \u001b[0m\u001b[38;5;34m1,313,025\u001b[0m (5.01 MB)\n"
      ]
     },
     "metadata": {},
     "output_type": "display_data"
    },
    {
     "data": {
      "text/html": [
       "<pre style=\"white-space:pre;overflow-x:auto;line-height:normal;font-family:Menlo,'DejaVu Sans Mono',consolas,'Courier New',monospace\"><span style=\"font-weight: bold\"> Non-trainable params: </span><span style=\"color: #00af00; text-decoration-color: #00af00\">0</span> (0.00 B)\n",
       "</pre>\n"
      ],
      "text/plain": [
       "\u001b[1m Non-trainable params: \u001b[0m\u001b[38;5;34m0\u001b[0m (0.00 B)\n"
      ]
     },
     "metadata": {},
     "output_type": "display_data"
    },
    {
     "data": {
      "text/html": [
       "<pre style=\"white-space:pre;overflow-x:auto;line-height:normal;font-family:Menlo,'DejaVu Sans Mono',consolas,'Courier New',monospace\"><span style=\"font-weight: bold\"> Optimizer params: </span><span style=\"color: #00af00; text-decoration-color: #00af00\">2</span> (12.00 B)\n",
       "</pre>\n"
      ],
      "text/plain": [
       "\u001b[1m Optimizer params: \u001b[0m\u001b[38;5;34m2\u001b[0m (12.00 B)\n"
      ]
     },
     "metadata": {},
     "output_type": "display_data"
    }
   ],
   "source": [
    "#load the pre-trained model with relu activation\n",
    "model = load_model('simple_rnn_imdb.h5')\n",
    "model.summary()"
   ]
  },
  {
   "cell_type": "code",
   "execution_count": 4,
   "id": "26ec8d29",
   "metadata": {},
   "outputs": [
    {
     "data": {
      "text/plain": [
       "[array([[-7.6946914e-02,  2.0020090e-01, -6.1439246e-01, ...,\n",
       "          3.0585900e-01, -1.3122500e+00,  4.8861381e-02],\n",
       "        [-4.9784079e-02,  1.9540524e-02, -5.4505479e-02, ...,\n",
       "          8.0739908e-02, -5.0220069e-02,  2.4600694e-02],\n",
       "        [ 5.0797675e-02, -6.8800844e-04, -2.5302466e-02, ...,\n",
       "          7.5585186e-02, -1.5962626e-01, -3.1120420e-02],\n",
       "        ...,\n",
       "        [-8.7973729e-02, -8.2205191e-02, -7.7925041e-02, ...,\n",
       "          1.5205428e-01,  7.0101663e-02,  5.6598861e-02],\n",
       "        [ 1.5429772e-01, -5.0028790e-02,  6.2965840e-02, ...,\n",
       "         -5.9218939e-02,  1.2133779e-01, -8.3913840e-02],\n",
       "        [-2.7978981e-01,  2.5392964e-01, -1.6889724e-01, ...,\n",
       "          1.4901446e-01,  1.8358921e-01,  2.3978853e-01]], dtype=float32),\n",
       " array([[ 0.1398821 ,  0.04055639,  0.03677206, ..., -0.10136671,\n",
       "          0.06682926, -0.02559048],\n",
       "        [-0.10320689, -0.00137264, -0.10483718, ..., -0.02147192,\n",
       "         -0.09402727, -0.14006817],\n",
       "        [ 0.05552359,  0.02968792,  0.0510318 , ..., -0.13789181,\n",
       "          0.03995598, -0.09089091],\n",
       "        ...,\n",
       "        [-0.02000104,  0.04336425, -0.10156711, ..., -0.04152144,\n",
       "          0.06369769, -0.02575945],\n",
       "        [-0.13785109,  0.05234489,  0.02884462, ...,  0.03302255,\n",
       "         -0.0390998 ,  0.11543664],\n",
       "        [-0.07899826, -0.09325748,  0.08371197, ...,  0.10321854,\n",
       "          0.02590379, -0.17935155]], dtype=float32),\n",
       " array([[-0.10523377, -0.10793766, -0.07553929, ..., -0.11072927,\n",
       "         -0.01649941, -0.02158062],\n",
       "        [-0.08325918, -0.09955109,  0.02024798, ..., -0.03981675,\n",
       "         -0.1231923 ,  0.06579479],\n",
       "        [ 0.01623034, -0.09168518,  0.05223053, ...,  0.12394947,\n",
       "          0.07071802,  0.11480585],\n",
       "        ...,\n",
       "        [-0.03726817, -0.04797505, -0.09652521, ...,  0.0205918 ,\n",
       "         -0.00700696, -0.00513013],\n",
       "        [-0.08833065, -0.02334573,  0.05125756, ...,  0.06484296,\n",
       "         -0.05996992,  0.02424759],\n",
       "        [-0.06558718,  0.02582607, -0.00509611, ..., -0.06438693,\n",
       "          0.1503412 ,  0.01661191]], dtype=float32),\n",
       " array([-1.81082524e-02, -5.38665205e-02,  1.34843178e-02, -4.59749326e-02,\n",
       "         3.18077691e-02, -2.54126843e-02,  5.28721586e-02,  1.03437221e-02,\n",
       "        -5.50826371e-04, -6.77045360e-02, -3.22604142e-02, -6.38416559e-02,\n",
       "        -4.41637412e-02,  2.36407965e-02, -1.20559856e-02,  9.66477208e-03,\n",
       "        -3.88025008e-02,  2.43748929e-02, -2.41188221e-02, -3.46937180e-02,\n",
       "        -4.96530905e-02, -3.92795093e-02, -2.18329253e-04, -2.11618785e-02,\n",
       "         3.12749459e-03, -2.44697127e-02,  1.61341932e-02, -3.24452296e-02,\n",
       "        -3.13120596e-02, -3.90807576e-02, -2.13271081e-02,  2.07232614e-03,\n",
       "         4.67753708e-02,  7.77137000e-03, -7.55336275e-03,  2.25180015e-02,\n",
       "        -3.25660892e-02,  1.39865642e-02,  4.86463588e-03, -3.03540677e-02,\n",
       "        -2.19320431e-02, -1.72406398e-02, -1.20202210e-02,  1.57791972e-02,\n",
       "        -2.86987089e-02, -5.30594587e-02, -4.12061401e-02, -8.94667537e-05,\n",
       "         1.73516944e-02,  3.72814462e-02, -3.41461897e-02, -1.93284173e-02,\n",
       "        -3.25136557e-02,  1.10280914e-02,  1.99098270e-02, -2.22815434e-03,\n",
       "        -5.24604879e-02, -5.73870763e-02,  6.47331923e-02, -2.89862715e-02,\n",
       "        -1.81748308e-02,  1.68482270e-02,  1.37410397e-02,  1.56826084e-03,\n",
       "        -7.09596127e-02, -4.55789156e-02, -2.35089543e-03,  6.07508514e-03,\n",
       "        -6.16209581e-03,  1.21146664e-02, -4.07583751e-02, -1.27568385e-02,\n",
       "        -4.62099612e-02, -3.77751924e-02, -4.91584726e-02, -6.15175255e-02,\n",
       "         1.09876646e-02,  1.16493031e-02,  3.88226681e-03,  4.87631485e-02,\n",
       "        -2.94102505e-02, -4.84159067e-02, -1.77586153e-02, -1.86460675e-03,\n",
       "         3.17875594e-02,  4.36532311e-02, -4.71081175e-02, -5.58142811e-02,\n",
       "         1.70632936e-02,  2.47589429e-03, -4.27861065e-02,  4.58468078e-03,\n",
       "        -3.30033861e-02,  1.02761295e-02, -1.43612139e-02, -3.63234766e-02,\n",
       "        -2.88430285e-02, -3.67919952e-02,  1.81230679e-02, -1.29834283e-04,\n",
       "        -5.41414991e-02, -4.94332761e-02, -4.01111878e-02,  1.15684411e-02,\n",
       "        -5.70487306e-02,  4.97290455e-02, -6.38214648e-02, -3.68406661e-02,\n",
       "        -1.51533997e-02, -2.21483111e-02,  9.97920241e-03, -6.08048178e-02,\n",
       "         2.49345414e-03,  1.39537882e-02, -4.24773432e-02, -4.12162393e-02,\n",
       "        -2.78249960e-02, -2.39626374e-02,  1.74783263e-02, -2.53400020e-02,\n",
       "         4.20304239e-02, -3.75069082e-02, -4.99171987e-02, -1.52585646e-02,\n",
       "        -2.61336379e-02,  5.83984749e-03, -6.11320771e-02, -8.53575952e-03],\n",
       "       dtype=float32),\n",
       " array([[-0.03052607],\n",
       "        [ 0.06950611],\n",
       "        [ 0.03308315],\n",
       "        [-0.06731047],\n",
       "        [-0.13388214],\n",
       "        [-0.18507639],\n",
       "        [ 0.3199718 ],\n",
       "        [-0.02349999],\n",
       "        [ 0.22917038],\n",
       "        [-0.1699763 ],\n",
       "        [-0.00580185],\n",
       "        [-0.06830554],\n",
       "        [ 0.13675676],\n",
       "        [-0.04761009],\n",
       "        [-0.07899785],\n",
       "        [ 0.04313189],\n",
       "        [-0.21653126],\n",
       "        [-0.14159739],\n",
       "        [ 0.17749378],\n",
       "        [ 0.12627982],\n",
       "        [-0.16930452],\n",
       "        [ 0.19775939],\n",
       "        [-0.14157616],\n",
       "        [-0.4611782 ],\n",
       "        [-0.08590319],\n",
       "        [-0.19530317],\n",
       "        [ 0.0987431 ],\n",
       "        [ 0.02631253],\n",
       "        [-0.05931934],\n",
       "        [ 0.08450706],\n",
       "        [ 0.13435444],\n",
       "        [ 0.09091961],\n",
       "        [-0.1277906 ],\n",
       "        [ 0.08696938],\n",
       "        [ 0.10683376],\n",
       "        [-0.09594213],\n",
       "        [-0.01909387],\n",
       "        [-0.12995721],\n",
       "        [-0.00647124],\n",
       "        [ 0.12111933],\n",
       "        [ 0.10223024],\n",
       "        [-0.10610243],\n",
       "        [ 0.09329921],\n",
       "        [ 0.11189662],\n",
       "        [-0.06333005],\n",
       "        [-0.00868784],\n",
       "        [ 0.07577644],\n",
       "        [-0.01181417],\n",
       "        [ 0.1485816 ],\n",
       "        [ 0.18195182],\n",
       "        [ 0.04301385],\n",
       "        [-0.05130297],\n",
       "        [ 0.00673759],\n",
       "        [ 0.18258312],\n",
       "        [ 0.08610743],\n",
       "        [-0.02278458],\n",
       "        [ 0.01289304],\n",
       "        [-0.13836326],\n",
       "        [ 0.16093336],\n",
       "        [-0.14131899],\n",
       "        [ 0.19145754],\n",
       "        [-0.12132119],\n",
       "        [-0.02931093],\n",
       "        [ 0.11842754],\n",
       "        [-0.27270076],\n",
       "        [ 0.00450036],\n",
       "        [-0.05368626],\n",
       "        [ 0.22728094],\n",
       "        [-0.1554076 ],\n",
       "        [ 0.03118478],\n",
       "        [ 0.14620693],\n",
       "        [-0.10538346],\n",
       "        [ 0.00715111],\n",
       "        [-0.31226313],\n",
       "        [-0.22892348],\n",
       "        [-0.07462726],\n",
       "        [-0.08778333],\n",
       "        [ 0.02977274],\n",
       "        [ 0.0562938 ],\n",
       "        [-0.17712967],\n",
       "        [-0.01787231],\n",
       "        [ 0.10248622],\n",
       "        [-0.1616005 ],\n",
       "        [-0.01517906],\n",
       "        [-0.18566911],\n",
       "        [ 0.00920285],\n",
       "        [-0.01113842],\n",
       "        [-0.06421082],\n",
       "        [-0.08501604],\n",
       "        [ 0.03891806],\n",
       "        [-0.20495506],\n",
       "        [-0.00799687],\n",
       "        [ 0.06935927],\n",
       "        [ 0.07599215],\n",
       "        [-0.18567121],\n",
       "        [-0.05302747],\n",
       "        [ 0.169876  ],\n",
       "        [-0.07529191],\n",
       "        [ 0.06879744],\n",
       "        [ 0.10140694],\n",
       "        [-0.08335675],\n",
       "        [-0.08124252],\n",
       "        [-0.07424397],\n",
       "        [-0.16161905],\n",
       "        [-0.10041128],\n",
       "        [-0.03504952],\n",
       "        [-0.1642257 ],\n",
       "        [-0.1038104 ],\n",
       "        [-0.06674505],\n",
       "        [-0.08173546],\n",
       "        [ 0.10729947],\n",
       "        [ 0.13372874],\n",
       "        [ 0.11939867],\n",
       "        [-1.2623899 ],\n",
       "        [-0.02592967],\n",
       "        [-0.01396457],\n",
       "        [ 0.21790774],\n",
       "        [ 0.08896764],\n",
       "        [-0.08974644],\n",
       "        [-0.31721568],\n",
       "        [ 0.05800293],\n",
       "        [ 0.15498601],\n",
       "        [-0.01115655],\n",
       "        [ 0.02700775],\n",
       "        [-0.16228467],\n",
       "        [ 0.02854273],\n",
       "        [-0.02939594],\n",
       "        [-0.01968914]], dtype=float32),\n",
       " array([-1.2009254], dtype=float32)]"
      ]
     },
     "execution_count": 4,
     "metadata": {},
     "output_type": "execute_result"
    }
   ],
   "source": [
    "model.get_weights()"
   ]
  },
  {
   "cell_type": "code",
   "execution_count": 5,
   "id": "981aa06e",
   "metadata": {},
   "outputs": [],
   "source": [
    "#step 2 helper functions \n",
    "## Fucntion to decode reviews\n",
    "\n",
    "def decode_review(encoded_review):\n",
    "    return ' '.join([reverse_word_index.get(i-3, '?')for i in encoded_review])\n",
    "\n",
    "\n",
    "## Function to perprocess user input\n",
    "def preprocess_text(text):\n",
    "    words = text.lower().split()\n",
    "    encoded_review = [word_index.get(word, 2) + 3 for word in words]\n",
    "    padded_review = sequence.pad_sequences([encoded_review],maxlen=500)\n",
    "    return padded_review"
   ]
  },
  {
   "cell_type": "code",
   "execution_count": 6,
   "id": "57612aea",
   "metadata": {},
   "outputs": [],
   "source": [
    "## prediction function \n",
    "def predict_sentiment(review):\n",
    "    preprocess_input = preprocess_text(review)\n",
    "    \n",
    "    predicition=model.predict(preprocess_input)\n",
    "    \n",
    "    sentiment = 'positive' if predicition [0] [0] > 0.5 else 'Negative'\n",
    "    \n",
    "    return sentiment, predicition[0][0]"
   ]
  },
  {
   "cell_type": "code",
   "execution_count": 8,
   "id": "0ac297c4",
   "metadata": {},
   "outputs": [
    {
     "name": "stdout",
     "output_type": "stream",
     "text": [
      "\u001b[1m1/1\u001b[0m \u001b[32m━━━━━━━━━━━━━━━━━━━━\u001b[0m\u001b[37m\u001b[0m \u001b[1m0s\u001b[0m 38ms/step\n",
      "Review:this movie was fanstastic! the acting as great and the plot was thrilling.\n",
      "sentiment:positive\n",
      "Prediction Score: 0.9652333855628967\n"
     ]
    }
   ],
   "source": [
    "#step 4 : User Input and prediction\n",
    "#Example review for prediction\n",
    "\n",
    "example_review = \"this movie was fanstastic! the acting as great and the plot was thrilling.\"\n",
    "\n",
    "sentiment,score=predict_sentiment(example_review)\n",
    "print(f'Review:{example_review}')\n",
    "print(f'sentiment:{sentiment}')\n",
    "print(f'Prediction Score: {score}')"
   ]
  },
  {
   "cell_type": "code",
   "execution_count": null,
   "id": "aba0eb30",
   "metadata": {},
   "outputs": [],
   "source": []
  }
 ],
 "metadata": {
  "kernelspec": {
   "display_name": "base",
   "language": "python",
   "name": "python3"
  },
  "language_info": {
   "codemirror_mode": {
    "name": "ipython",
    "version": 3
   },
   "file_extension": ".py",
   "mimetype": "text/x-python",
   "name": "python",
   "nbconvert_exporter": "python",
   "pygments_lexer": "ipython3",
   "version": "3.12.7"
  }
 },
 "nbformat": 4,
 "nbformat_minor": 5
}
